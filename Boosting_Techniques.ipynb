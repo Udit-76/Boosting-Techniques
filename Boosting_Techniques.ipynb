{
  "nbformat": 4,
  "nbformat_minor": 0,
  "metadata": {
    "colab": {
      "provenance": []
    },
    "kernelspec": {
      "name": "python3",
      "display_name": "Python 3"
    },
    "language_info": {
      "name": "python"
    }
  },
  "cells": [
    {
      "cell_type": "markdown",
      "source": [
        "1. What is Boosting in Machine Learning? Explain how it improves weak\n",
        "- Boosting is an ensemble learning method where multiple weak learners (models performing slightly better than random guessing, e.g., shallow trees) are trained sequentially. Each new model focuses on correcting the mistakes of the previous ones. Finally, the learners are combined through weighted voting (classification) or averaging (regression) to form a strong learner.\n",
        "\n",
        "  It improves weak learning by:\n",
        "\n",
        "  - Giving more weight to misclassified samples so later models focus on harder cases.\n",
        "\n",
        "  - Sequentially reducing bias and variance.\n",
        "\n",
        "  - Producing high accuracy models even with simple base learners."
      ],
      "metadata": {
        "id": "kJ7uJ0tK6gcL"
      }
    },
    {
      "cell_type": "markdown",
      "source": [
        "2. What is the difference between AdaBoost and Gradient Boosting in terms of how models are trained?\n",
        "- AdaBoost trains models sequentially by giving higher weights to the samples that were misclassified by the previous learner. Each new weak learner focuses more on the “hard-to-classify” instances, and the final prediction is made through a weighted combination of all learners.\n",
        "\n",
        "- Gradient Boosting, on the other hand, also trains models sequentially but instead of reweighting samples, it builds new learners to predict the residual errors (the difference between the true values and the current predictions). This process uses gradient descent to minimize a chosen loss function, making Gradient Boosting more flexible and powerful compared to AdaBoost."
      ],
      "metadata": {
        "id": "3rB0AKQD6gQu"
      }
    },
    {
      "cell_type": "markdown",
      "source": [
        "3. How does regularization help in XGBoost?\n",
        "- XGBoost includes regularization terms (L1 & L2 penalties) in its objective function.\n",
        "\n",
        "  - L1 (Lasso): Encourages sparsity (removes unnecessary features).\n",
        "\n",
        "  - L2 (Ridge): Prevents overfitting by shrinking large weights.\n",
        "\n",
        "   - Helps in controlling model complexity, reducing overfitting, and improving generalization."
      ],
      "metadata": {
        "id": "XCO7M0rt6f7a"
      }
    },
    {
      "cell_type": "markdown",
      "source": [
        "Question 4: Why is CatBoost considered efficient for handling categorical data?\n",
        "- CatBoost is efficient because:\n",
        "\n",
        "  1. Uses ordered target statistics (avoids target leakage).\n",
        "\n",
        "  2. Performs automatic categorical feature encoding, removing the need for manual one-hot encoding.\n",
        "\n",
        "  3. Handles high-cardinality categorical variables well.\n",
        "\n",
        "  4. Provides fast training with GPU support."
      ],
      "metadata": {
        "id": "XFaF03aQ6ftW"
      }
    },
    {
      "cell_type": "markdown",
      "source": [
        "Question 5: What are some real-world applications where boosting techniques are preferred over bagging methods?\n",
        "- Boosting is preferred when accuracy and handling complex patterns are more important than interpretability.\n",
        " - Some real world application are -\n",
        "   - Credit risk prediction (loan defaults, fraud detection).\n",
        "\n",
        "   - Medical diagnosis (detecting cancer, heart disease).\n",
        "\n",
        "   - E-commerce (recommendation engines, customer churn prediction).\n",
        "\n",
        "   - Finance (stock market prediction, credit scoring).\n",
        "\n",
        "   - Natural Language Processing (NLP) (spam filtering, sentiment analysis)."
      ],
      "metadata": {
        "id": "lYHlumsF6NAr"
      }
    },
    {
      "cell_type": "code",
      "source": [
        "#6. Write a Python program to: ● Train an AdaBoost Classifier on the Breast Cancer dataset ● Print the model accuracy\n",
        "from sklearn.datasets import load_breast_cancer\n",
        "from sklearn.ensemble import AdaBoostClassifier\n",
        "from sklearn.model_selection import train_test_split\n",
        "from sklearn.metrics import accuracy_score\n",
        "\n",
        "# Load dataset\n",
        "data = load_breast_cancer()\n",
        "X, y = data.data, data.target\n",
        "\n",
        "# Split data\n",
        "X_train, X_test, y_train, y_test = train_test_split(X, y, test_size=0.3, random_state=42)\n",
        "\n",
        "# Train AdaBoost\n",
        "model = AdaBoostClassifier(n_estimators=100, random_state=42)\n",
        "model.fit(X_train, y_train)\n",
        "\n",
        "# Predictions & Accuracy\n",
        "y_pred = model.predict(X_test)\n",
        "print(\"AdaBoost Accuracy:\", accuracy_score(y_test, y_pred))"
      ],
      "metadata": {
        "colab": {
          "base_uri": "https://localhost:8080/"
        },
        "id": "hH6SGJsu6R_C",
        "outputId": "460ee961-650f-42f7-f1b3-983e9b241e90"
      },
      "execution_count": 10,
      "outputs": [
        {
          "output_type": "stream",
          "name": "stdout",
          "text": [
            "AdaBoost Accuracy: 0.9707602339181286\n"
          ]
        }
      ]
    },
    {
      "cell_type": "code",
      "source": [
        "#7. Write a Python program to: ● Train a Gradient Boosting Regressor on the California Housing dataset ● Evaluate performance using R-squared score\n",
        "from sklearn.datasets import fetch_california_housing\n",
        "from sklearn.ensemble import GradientBoostingRegressor\n",
        "from sklearn.model_selection import train_test_split\n",
        "from sklearn.metrics import r2_score\n",
        "\n",
        "# Load dataset\n",
        "data = fetch_california_housing()\n",
        "X, y = data.data, data.target\n",
        "\n",
        "# Split\n",
        "X_train, X_test, y_train, y_test = train_test_split(X, y, test_size=0.3, random_state=42)\n",
        "\n",
        "# Train Gradient Boosting\n",
        "model = GradientBoostingRegressor(n_estimators=200, learning_rate=0.1, random_state=42)\n",
        "model.fit(X_train, y_train)\n",
        "\n",
        "# Evaluate\n",
        "y_pred = model.predict(X_test)\n",
        "print(\"R-squared Score:\", r2_score(y_test, y_pred))\n"
      ],
      "metadata": {
        "colab": {
          "base_uri": "https://localhost:8080/"
        },
        "id": "gJGlMSlM5D-_",
        "outputId": "aabeab2c-5e36-4beb-f79a-8ee054ce651b"
      },
      "execution_count": 3,
      "outputs": [
        {
          "output_type": "stream",
          "name": "stdout",
          "text": [
            "R-squared Score: 0.804992915650479\n"
          ]
        }
      ]
    },
    {
      "cell_type": "code",
      "source": [
        "#8. Write a Python program to: ● Train an XGBoost Classifier on the Breast Cancer dataset ● Tune the learning rate using GridSearchCV ● Print the best parameters and accuracy\n",
        "import xgboost as xgb\n",
        "from sklearn.datasets import load_breast_cancer\n",
        "from sklearn.model_selection import train_test_split, GridSearchCV\n",
        "from sklearn.metrics import accuracy_score\n",
        "\n",
        "# Load dataset\n",
        "data = load_breast_cancer()\n",
        "X, y = data.data, data.target\n",
        "\n",
        "# Split\n",
        "X_train, X_test, y_train, y_test = train_test_split(X, y, test_size=0.3, random_state=42)\n",
        "\n",
        "# Model\n",
        "xgb_model = xgb.XGBClassifier(use_label_encoder=False, eval_metric='logloss', random_state=42)\n",
        "\n",
        "# GridSearch for learning_rate\n",
        "param_grid = {'learning_rate': [0.01, 0.05, 0.1, 0.2]}\n",
        "grid = GridSearchCV(xgb_model, param_grid, cv=3, scoring='accuracy')\n",
        "grid.fit(X_train, y_train)\n",
        "\n",
        "# Best model\n",
        "best_model = grid.best_estimator_\n",
        "y_pred = best_model.predict(X_test)\n",
        "\n",
        "print(\"Best Parameters:\", grid.best_params_)\n",
        "print(\"Best Accuracy:\", accuracy_score(y_test, y_pred))\n"
      ],
      "metadata": {
        "colab": {
          "base_uri": "https://localhost:8080/"
        },
        "id": "nXiUKsxu5Dzr",
        "outputId": "0cc98455-2668-44be-c44c-34ffe54c783f"
      },
      "execution_count": 9,
      "outputs": [
        {
          "output_type": "stream",
          "name": "stderr",
          "text": [
            "/usr/local/lib/python3.12/dist-packages/xgboost/training.py:183: UserWarning: [09:42:50] WARNING: /workspace/src/learner.cc:738: \n",
            "Parameters: { \"use_label_encoder\" } are not used.\n",
            "\n",
            "  bst.update(dtrain, iteration=i, fobj=obj)\n",
            "/usr/local/lib/python3.12/dist-packages/xgboost/training.py:183: UserWarning: [09:42:50] WARNING: /workspace/src/learner.cc:738: \n",
            "Parameters: { \"use_label_encoder\" } are not used.\n",
            "\n",
            "  bst.update(dtrain, iteration=i, fobj=obj)\n",
            "/usr/local/lib/python3.12/dist-packages/xgboost/training.py:183: UserWarning: [09:42:50] WARNING: /workspace/src/learner.cc:738: \n",
            "Parameters: { \"use_label_encoder\" } are not used.\n",
            "\n",
            "  bst.update(dtrain, iteration=i, fobj=obj)\n",
            "/usr/local/lib/python3.12/dist-packages/xgboost/training.py:183: UserWarning: [09:42:51] WARNING: /workspace/src/learner.cc:738: \n",
            "Parameters: { \"use_label_encoder\" } are not used.\n",
            "\n",
            "  bst.update(dtrain, iteration=i, fobj=obj)\n",
            "/usr/local/lib/python3.12/dist-packages/xgboost/training.py:183: UserWarning: [09:42:51] WARNING: /workspace/src/learner.cc:738: \n",
            "Parameters: { \"use_label_encoder\" } are not used.\n",
            "\n",
            "  bst.update(dtrain, iteration=i, fobj=obj)\n",
            "/usr/local/lib/python3.12/dist-packages/xgboost/training.py:183: UserWarning: [09:42:51] WARNING: /workspace/src/learner.cc:738: \n",
            "Parameters: { \"use_label_encoder\" } are not used.\n",
            "\n",
            "  bst.update(dtrain, iteration=i, fobj=obj)\n",
            "/usr/local/lib/python3.12/dist-packages/xgboost/training.py:183: UserWarning: [09:42:51] WARNING: /workspace/src/learner.cc:738: \n",
            "Parameters: { \"use_label_encoder\" } are not used.\n",
            "\n",
            "  bst.update(dtrain, iteration=i, fobj=obj)\n",
            "/usr/local/lib/python3.12/dist-packages/xgboost/training.py:183: UserWarning: [09:42:51] WARNING: /workspace/src/learner.cc:738: \n",
            "Parameters: { \"use_label_encoder\" } are not used.\n",
            "\n",
            "  bst.update(dtrain, iteration=i, fobj=obj)\n",
            "/usr/local/lib/python3.12/dist-packages/xgboost/training.py:183: UserWarning: [09:42:51] WARNING: /workspace/src/learner.cc:738: \n",
            "Parameters: { \"use_label_encoder\" } are not used.\n",
            "\n",
            "  bst.update(dtrain, iteration=i, fobj=obj)\n",
            "/usr/local/lib/python3.12/dist-packages/xgboost/training.py:183: UserWarning: [09:42:51] WARNING: /workspace/src/learner.cc:738: \n",
            "Parameters: { \"use_label_encoder\" } are not used.\n",
            "\n",
            "  bst.update(dtrain, iteration=i, fobj=obj)\n",
            "/usr/local/lib/python3.12/dist-packages/xgboost/training.py:183: UserWarning: [09:42:51] WARNING: /workspace/src/learner.cc:738: \n",
            "Parameters: { \"use_label_encoder\" } are not used.\n",
            "\n",
            "  bst.update(dtrain, iteration=i, fobj=obj)\n",
            "/usr/local/lib/python3.12/dist-packages/xgboost/training.py:183: UserWarning: [09:42:52] WARNING: /workspace/src/learner.cc:738: \n",
            "Parameters: { \"use_label_encoder\" } are not used.\n",
            "\n",
            "  bst.update(dtrain, iteration=i, fobj=obj)\n",
            "/usr/local/lib/python3.12/dist-packages/xgboost/training.py:183: UserWarning: [09:42:52] WARNING: /workspace/src/learner.cc:738: \n",
            "Parameters: { \"use_label_encoder\" } are not used.\n",
            "\n",
            "  bst.update(dtrain, iteration=i, fobj=obj)\n"
          ]
        },
        {
          "output_type": "stream",
          "name": "stdout",
          "text": [
            "Best Parameters: {'learning_rate': 0.05}\n",
            "Best Accuracy: 0.9649122807017544\n"
          ]
        }
      ]
    },
    {
      "cell_type": "code",
      "source": [
        "#9. Write a Python program to: ● Train a CatBoost Classifier ● Plot the confusion matrix using seaborn\n",
        "from catboost import CatBoostClassifier\n",
        "from sklearn.datasets import load_breast_cancer\n",
        "from sklearn.model_selection import train_test_split\n",
        "from sklearn.metrics import confusion_matrix\n",
        "import seaborn as sns\n",
        "import matplotlib.pyplot as plt\n",
        "\n",
        "# Load dataset\n",
        "data = load_breast_cancer()\n",
        "X, y = data.data, data.target\n",
        "\n",
        "# Split\n",
        "X_train, X_test, y_train, y_test = train_test_split(X, y, test_size=0.3, random_state=42)\n",
        "\n",
        "# Train CatBoost\n",
        "model = CatBoostClassifier(iterations=200, learning_rate=0.1, depth=6, verbose=0, random_state=42)\n",
        "model.fit(X_train, y_train)\n",
        "\n",
        "# Predictions\n",
        "y_pred = model.predict(X_test)\n",
        "\n",
        "# Confusion Matrix\n",
        "cm = confusion_matrix(y_test, y_pred)\n",
        "\n",
        "sns.heatmap(cm, annot=True, fmt='d', cmap=\"Blues\", xticklabels=[\"Malignant\", \"Benign\"], yticklabels=[\"Malignant\", \"Benign\"])\n",
        "plt.xlabel(\"Predicted\")\n",
        "plt.ylabel(\"Actual\")\n",
        "plt.title(\"CatBoost Confusion Matrix\")\n",
        "plt.show()\n"
      ],
      "metadata": {
        "colab": {
          "base_uri": "https://localhost:8080/",
          "height": 472
        },
        "id": "x2JJro4I5Dmt",
        "outputId": "e1865e0f-72f4-4038-a880-2d3c2afc9927"
      },
      "execution_count": 7,
      "outputs": [
        {
          "output_type": "display_data",
          "data": {
            "text/plain": [
              "<Figure size 640x480 with 2 Axes>"
            ],
            "image/png": "[encoded data removed]"
          },
          "metadata": {}
        }
      ]
    },
    {
      "cell_type": "markdown",
      "source": [
        " 10. You're working for a FinTech company trying to predict loan default using\n",
        "customer demographics and transaction behavior.\n",
        "The dataset is imbalanced, contains missing values, and has both numeric and\n",
        "categorical features.\n",
        "\n",
        "     Describe your step-by-step data science pipeline using boosting techniques:\n",
        "     ● Data preprocessing & handling missing/categorical values\n",
        "     ● Choice between AdaBoost, XGBoost, or CatBoost\n",
        "     ● Hyperparameter tuning strategy\n",
        "     ● Evaluation metrics you'd choose and why\n",
        "     ● How the business would benefit from your model\n",
        "- Step 1: Data Preprocessing\n",
        "\n",
        " - Handle missing values (impute with mean/median for numeric, mode/“unknown” for categorical).\n",
        "\n",
        " - Normalize numeric features (scaling).\n",
        "\n",
        " - Encode categorical variables:\n",
        "\n",
        "   - If using CatBoost → no manual encoding needed.\n",
        "\n",
        "   - Otherwise → use one-hot or target encoding.\n",
        "\n",
        "   Step 2: Choice of Algorithm\n",
        "\n",
        " - AdaBoost → not ideal (less powerful).\n",
        "\n",
        " - XGBoost → good for structured data with numeric features.\n",
        "\n",
        " - CatBoost → best choice due to mixed categorical + numeric data.\n",
        "\n",
        "   Step 3: Hyperparameter Tuning\n",
        "\n",
        " - Use GridSearchCV / RandomizedSearchCV for parameters:\n",
        "\n",
        "   - learning_rate, max_depth, n_estimators, subsample, colsample_bytree.\n",
        "\n",
        "   Step 4: Evaluation Metrics\n",
        "\n",
        " - Dataset is imbalanced → accuracy is misleading.\n",
        "\n",
        " - Use Precision, Recall, F1-score, ROC-AUC.\n",
        "\n",
        " - Business context → Recall (identify defaulters) is more important.\n",
        "\n",
        "   Step 5: Business Benefits\n",
        "\n",
        " - Better risk management → fewer loan defaults.\n",
        "\n",
        " - Improved customer profiling → personalized loan offers.\n",
        "\n",
        " - Cost savings → avoiding losses from high-risk borrowers.\n",
        "\n"
      ],
      "metadata": {
        "id": "MjuL_Jl6t_uN"
      }
    }
  ]
}